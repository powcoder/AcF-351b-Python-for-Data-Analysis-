{
 "cells": [
  {
   "cell_type": "code",
   "execution_count": 1,
   "metadata": {
    "collapsed": false
   },
   "outputs": [
    {
     "name": "stdout",
     "output_type": "stream",
     "text": [
      "Enter your WRDS username [xuh14]:vaskatta\n",
      "Enter your password:········\n",
      "WRDS recommends setting up a .pgpass file.\n",
      "You can find more info here:\n",
      "https://www.postgresql.org/docs/9.5/static/libpq-pgpass.html.\n",
      "Loading library list...\n",
      "Done\n"
     ]
    }
   ],
   "source": [
    "# This is a sample code showing how to link CRSP, Compustat and SEC Edgar data.\n",
    "# It also assumes that task I is finished and 10-K filng dates and CIK numbers have been obtained.\n",
    "\n",
    "import wrds    \n",
    "import random\n",
    "import numpy as np\n",
    "import pandas as pd\n",
    "\n",
    "# Create a connection to WRDS server\n",
    "# You will be asked for your username and passwords\n",
    "\n",
    "conn = wrds.Connection()\n"
   ]
  },
  {
   "cell_type": "code",
   "execution_count": 2,
   "metadata": {
    "collapsed": false
   },
   "outputs": [
    {
     "name": "stdout",
     "output_type": "stream",
     "text": [
      "    gvkey   bkvlps    datadate         cik\n",
      "0  001690  24.0339  2016-09-30  0000320193\n",
      "1  001690      NaN  2016-09-30  0000320193\n",
      "2  012141   9.2209  2016-06-30  0000789019\n",
      "3  012141      NaN  2016-06-30  0000789019\n"
     ]
    }
   ],
   "source": [
    "# As an example, we are going to focus on two firms, Apple and Microsoft, and their 10-K reports in 2016. \n",
    "# Their CIK numbers are 0000320193 and 0000789019, respectively; the filing dates are 2016-09-30 and 2016-06-30, respectively. \n",
    "# You should be able to obtain the CIK numbers and filing dates from task I.\n",
    "\n",
    "# Computstat has a field called CIK. Therefore, we can find a firm's GVKEY, which is the Compustat's identification key, \n",
    "# by matching CIK in Compustat. In addition to GVKEY, we also try to obtain two other variables: book value per share, bkvlps,\n",
    "# and the date on which the Compustat data was observed, datadate.\n",
    "\n",
    "\n",
    "# we put all the CIK numbers in a tuple.\n",
    "CIK_list=tuple([ \"0000320193\", \"0000789019\"]);\n",
    "fd_list =tuple([\"2016-10-26\", \"2016-07-28\"]);\n",
    "\n",
    "fyear=2016;\n",
    "\n",
    "stmt1 = \"\"\"\n",
    "select gvkey, bkvlps, datadate, cik\n",
    "from comp.funda\n",
    "where  cik in {}\n",
    "and fyear={}\n",
    "\"\"\".format(CIK_list, fyear);\n",
    "\n",
    "gvkey_list=conn.raw_sql(stmt1);\n",
    "print(gvkey_list);\n",
    "\n"
   ]
  },
  {
   "cell_type": "code",
   "execution_count": 3,
   "metadata": {
    "collapsed": false
   },
   "outputs": [
    {
     "name": "stdout",
     "output_type": "stream",
     "text": [
      "    gvkey   bkvlps    datadate         cik\n",
      "0  001690  24.0339  2016-09-30  0000320193\n",
      "2  012141   9.2209  2016-06-30  0000789019\n"
     ]
    }
   ],
   "source": [
    "# bkvlps is book value per share. As you can see, there might be missing values when querying data. We only keep the non-missing\n",
    "# values.\n",
    "\n",
    "gvkey_list = gvkey_list[np.isfinite(gvkey_list['bkvlps'])];\n",
    "print(gvkey_list);"
   ]
  },
  {
   "cell_type": "code",
   "execution_count": 4,
   "metadata": {
    "collapsed": false
   },
   "outputs": [
    {
     "name": "stdout",
     "output_type": "stream",
     "text": [
      "    gvkey   permno\n",
      "0  001690      NaN\n",
      "1  001690  14593.0\n",
      "2  012141      NaN\n",
      "3  012141  10107.0\n"
     ]
    }
   ],
   "source": [
    "# CRSP provides a linking table between CRSP and Compustat, showing the correspondence between PERMO and GVKEY. Therefore, we will\n",
    "# use the GVKEY obtained from last step to find out their PERMOS in CRSP.\n",
    "\n",
    "stmt2= \"\"\"\n",
    "select gvkey, lpermno as permno\n",
    "from crsp.ccmxpf_linktable\n",
    "where gvkey in {}\n",
    "\"\"\".format(tuple(gvkey_list['gvkey']));\n",
    "\n",
    "ccm= conn.raw_sql(stmt2)\n",
    "print(ccm);\n",
    "\n"
   ]
  },
  {
   "cell_type": "code",
   "execution_count": 5,
   "metadata": {
    "collapsed": false
   },
   "outputs": [
    {
     "name": "stdout",
     "output_type": "stream",
     "text": [
      "    gvkey  permno\n",
      "1  001690   14593\n",
      "3  012141   10107\n"
     ]
    }
   ],
   "source": [
    "ccm = ccm[np.isfinite(ccm['permno'])];\n",
    "ccm['permno']=ccm['permno'].astype('int64', copy=False)\n",
    "print(ccm);"
   ]
  },
  {
   "cell_type": "code",
   "execution_count": 6,
   "metadata": {
    "collapsed": false
   },
   "outputs": [
    {
     "name": "stdout",
     "output_type": "stream",
     "text": [
      "    gvkey    datadate   bkvlps         cik  permno\n",
      "0  001690  2016-09-30  24.0339  0000320193   14593\n",
      "1  012141  2016-06-30   9.2209  0000789019   10107\n"
     ]
    }
   ],
   "source": [
    "# Therfore, we find out the PERMNOS for Apple and Microsoft. So we can merge all information, \n",
    "# including GVKEY, CIK and PERMNO together.\n",
    "\n",
    "ccm1=pd.merge(gvkey_list[['gvkey','datadate','bkvlps', 'cik']],ccm,how='left',on=['gvkey'])\n",
    "print(ccm1);"
   ]
  },
  {
   "cell_type": "code",
   "execution_count": 9,
   "metadata": {
    "collapsed": false
   },
   "outputs": [
    {
     "name": "stdout",
     "output_type": "stream",
     "text": [
      "    permno       ret      retx        date\n",
      "0  14593.0 -0.000512 -0.000512  2016-10-20\n",
      "1  14593.0 -0.003930 -0.003930  2016-10-21\n",
      "2  14593.0  0.009005  0.009005  2016-10-24\n",
      "3  14593.0  0.005100  0.005100  2016-10-25\n",
      "4  14593.0 -0.022495 -0.022495  2016-10-26\n",
      "5  14593.0 -0.009603 -0.009603  2016-10-27\n",
      "6  14593.0 -0.006639 -0.006639  2016-10-28\n",
      "7  14593.0 -0.001583 -0.001583  2016-10-31\n",
      "8  14593.0 -0.018055 -0.018055  2016-11-01\n",
      "0  10107.0  0.013799  0.013799  2016-07-22\n",
      "1  10107.0  0.002828  0.002828  2016-07-25\n",
      "2  10107.0  0.000529  0.000529  2016-07-26\n",
      "3  10107.0 -0.010042 -0.010042  2016-07-27\n",
      "4  10107.0  0.000356  0.000356  2016-07-28\n",
      "5  10107.0  0.008362  0.008362  2016-07-29\n",
      "6  10107.0 -0.001764 -0.001764  2016-08-01\n",
      "7  10107.0  0.000000  0.000000  2016-08-02\n",
      "8  10107.0  0.006893  0.006893  2016-08-03\n"
     ]
    }
   ],
   "source": [
    "# In principle, you can download all the stock return data from CRSP to local but that probably requires a great deal of \n",
    "# memeory and disk space. Alternatively, you can loop over each pair of filing date and CIK and find out the stock return, say,\n",
    "# of 7 days before and after the filing date.\n",
    "\n",
    "ccm2=pd.DataFrame();\n",
    "\n",
    "\n",
    "for i in range(len(fd_list)):\n",
    "    stmt3=\"\"\"\n",
    "    select permno, ret, retx, date(date) as date\n",
    "    FROM crsp.dsf\n",
    "    where permno= {}\n",
    "    and  date < date '{}' + integer '7'\n",
    "    and date > date '{}' - integer '7'\n",
    "    \"\"\".format(ccm['permno'].values[i],fd_list[i],fd_list[i])\n",
    "    ccm2=ccm2.append( conn.raw_sql(stmt3))\n",
    "    \n",
    "print(ccm2)"
   ]
  },
  {
   "cell_type": "code",
   "execution_count": 8,
   "metadata": {
    "collapsed": false
   },
   "outputs": [
    {
     "name": "stdout",
     "output_type": "stream",
     "text": [
      "     gvkey    datadate   bkvlps         cik  permno       ret      retx  \\\n",
      "0   001690  2016-09-30  24.0339  0000320193   14593 -0.000512 -0.000512   \n",
      "1   001690  2016-09-30  24.0339  0000320193   14593 -0.003930 -0.003930   \n",
      "2   001690  2016-09-30  24.0339  0000320193   14593  0.009005  0.009005   \n",
      "3   001690  2016-09-30  24.0339  0000320193   14593  0.005100  0.005100   \n",
      "4   001690  2016-09-30  24.0339  0000320193   14593 -0.022495 -0.022495   \n",
      "5   001690  2016-09-30  24.0339  0000320193   14593 -0.009603 -0.009603   \n",
      "6   001690  2016-09-30  24.0339  0000320193   14593 -0.006639 -0.006639   \n",
      "7   001690  2016-09-30  24.0339  0000320193   14593 -0.001583 -0.001583   \n",
      "8   001690  2016-09-30  24.0339  0000320193   14593 -0.018055 -0.018055   \n",
      "9   012141  2016-06-30   9.2209  0000789019   10107  0.013799  0.013799   \n",
      "10  012141  2016-06-30   9.2209  0000789019   10107  0.002828  0.002828   \n",
      "11  012141  2016-06-30   9.2209  0000789019   10107  0.000529  0.000529   \n",
      "12  012141  2016-06-30   9.2209  0000789019   10107 -0.010042 -0.010042   \n",
      "13  012141  2016-06-30   9.2209  0000789019   10107  0.000356  0.000356   \n",
      "14  012141  2016-06-30   9.2209  0000789019   10107  0.008362  0.008362   \n",
      "15  012141  2016-06-30   9.2209  0000789019   10107 -0.001764 -0.001764   \n",
      "16  012141  2016-06-30   9.2209  0000789019   10107  0.000000  0.000000   \n",
      "17  012141  2016-06-30   9.2209  0000789019   10107  0.006893  0.006893   \n",
      "\n",
      "          date  \n",
      "0   2016-10-20  \n",
      "1   2016-10-21  \n",
      "2   2016-10-24  \n",
      "3   2016-10-25  \n",
      "4   2016-10-26  \n",
      "5   2016-10-27  \n",
      "6   2016-10-28  \n",
      "7   2016-10-31  \n",
      "8   2016-11-01  \n",
      "9   2016-07-22  \n",
      "10  2016-07-25  \n",
      "11  2016-07-26  \n",
      "12  2016-07-27  \n",
      "13  2016-07-28  \n",
      "14  2016-07-29  \n",
      "15  2016-08-01  \n",
      "16  2016-08-02  \n",
      "17  2016-08-03  \n"
     ]
    }
   ],
   "source": [
    "# Finally,we merge stock return data CCM2 to firm's characteristics, such as bkvlps\n",
    "\n",
    "ccm3=pd.merge(ccm1, ccm2, how=\"right\", on=['permno']);\n",
    "print(ccm3)"
   ]
  },
  {
   "cell_type": "code",
   "execution_count": null,
   "metadata": {
    "collapsed": true
   },
   "outputs": [],
   "source": []
  }
 ],
 "metadata": {
  "kernelspec": {
   "display_name": "Python 3",
   "language": "python",
   "name": "python3"
  },
  "language_info": {
   "codemirror_mode": {
    "name": "ipython",
    "version": 3
   },
   "file_extension": ".py",
   "mimetype": "text/x-python",
   "name": "python",
   "nbconvert_exporter": "python",
   "pygments_lexer": "ipython3",
   "version": "3.5.5"
  }
 },
 "nbformat": 4,
 "nbformat_minor": 2
}
