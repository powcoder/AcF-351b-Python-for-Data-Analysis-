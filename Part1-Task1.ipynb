{
 "cells": [
  {
   "cell_type": "markdown",
   "metadata": {},
   "source": [
    "## SEC Edgar web scrapping\n",
    "by Name\n",
    "\n",
    "#### Step 1: import libraries "
   ]
  },
  {
   "cell_type": "code",
   "execution_count": 1,
   "metadata": {
    "collapsed": true
   },
   "outputs": [],
   "source": [
    "import os\n",
    "from urllib.request import urlopen"
   ]
  },
  {
   "cell_type": "markdown",
   "metadata": {},
   "source": [
    "#### Step 2: define the Report class\n",
    "This class contains 5 elements:\n",
    "\n",
    "*name* :       the company name\n",
    "\n",
    "*formtype* :   the form type\n",
    "\n",
    "*CIK* :        the CIK number of the company\n",
    "\n",
    "*date* :       the date\n",
    "\n",
    "*URL* :        the url to the K-10 filing\n",
    "\n",
    "##### Dealing with URL\n",
    "Taking an example url\n",
    "\n",
    "https://www.sec.gov/Archives/edgar/data/1798581/0001798581-20-000002-index.htm\n",
    "\n",
    "Observe that the url ends by _0001798581-20-000002-index.htm_\n",
    "\n",
    "While its corresponding K-10 filing text url is\n",
    "\n",
    "https://www.sec.gov/Archives/edgar/data/1798581/000179858120000002/0001798581-20-000002.txt\n",
    "\n",
    "Therefore, we only need to perform\n",
    "\n",
    "texturl = url - _0001798581-20-000002-index.htm_ + _000179858120000002_ + _0001798581-20-000002.txt_"
   ]
  },
  {
   "cell_type": "code",
   "execution_count": 2,
   "metadata": {
    "collapsed": true
   },
   "outputs": [],
   "source": [
    "# define function for generating the dictionary containing the report info \n",
    "def gen_dict(name, formtype, cik, date, url):\n",
    "    # remove the tailling spaces for name\n",
    "    D = dict()\n",
    "    l = name.split(' ')\n",
    "    l = [i for i in l if i != '']\n",
    "    D['name'] = ' '.join(l)\n",
    "   \n",
    "    # remove the tailling spaces for formtype\n",
    "    l = formtype.split(' ')\n",
    "    l = [i for i in l if i != '']\n",
    "    D['formtype'] = ' '.join(l)\n",
    "      \n",
    "    # remove the tailling spaces for CIK\n",
    "    D['CIK'] = cik.split(' ')[0]\n",
    "    \n",
    "    # remove the tailling spaces for date\n",
    "    D['date'] = date.split(' ')[0]\n",
    "        \n",
    "    # remove the tailling spaces for url\n",
    "    D['URL'] = url.split(' ')[0]\n",
    "    \n",
    "    return D\n",
    "        \n",
    "# define the download function    \n",
    "def download(target, path='./Reports'):\n",
    "    ''' Download the K-10 filing and save it in the folder'''\n",
    "    try:\n",
    "        os.mkdir(path)\n",
    "    except:\n",
    "        # directory already exists\n",
    "        pass\n",
    "        \n",
    "    # modify the link so that we get the correct url for the .txt filing\n",
    "    l = target['URL'].split('/')\n",
    "    s = l[-1]\n",
    "    serialnbr = s.split('-')[0:3]\n",
    "    txturl = '/'.join(l[0:-1]) + '/' + ''.join(serialnbr) + '/' + '-'.join(serialnbr) + '.txt'\n",
    "       \n",
    "    # get the text from url\n",
    "    # observe the url format, we modify the url so it is the link to the texual data\n",
    "    # basically we modify the serial number and add to the url\n",
    "    response = urlopen(txturl)\n",
    "    text = str(response.read())\n",
    "    lines = text.split('\\\\n')\n",
    "    fname = '-'.join(serialnbr) + '.txt'\n",
    "        \n",
    "    # write in the text file line by line\n",
    "    fname = path + '/' + fname\n",
    "    with open(fname, 'w') as f:\n",
    "        for line in lines:\n",
    "            f.write(line.replace('\\\\t','\\t') + '\\n')\n"
   ]
  },
  {
   "cell_type": "markdown",
   "metadata": {},
   "source": [
    "#### Step 3: fetch data from crawler.idx\n",
    "Since the values in _crawler.idx_ are not necessarily seperated by tab nor comma, we need to split them manually.\n",
    "\n",
    "In fact, the values are seperated by a random number of spaces, for the reason of prettiness.\n",
    "\n",
    "Here, I used a greedy method, that is to take the spaces in the string and then remove the spaces, so in the end we got a clean string without unecessary spaces."
   ]
  },
  {
   "cell_type": "code",
   "execution_count": 3,
   "metadata": {
    "collapsed": false
   },
   "outputs": [
    {
     "ename": "FileNotFoundError",
     "evalue": "[Errno 2] No such file or directory: './crawler.idx'",
     "output_type": "error",
     "traceback": [
      "\u001b[0;31m---------------------------------------------------------------------------\u001b[0m",
      "\u001b[0;31mFileNotFoundError\u001b[0m                         Traceback (most recent call last)",
      "\u001b[0;32m<ipython-input-3-b7679ef0bb96>\u001b[0m in \u001b[0;36m<module>\u001b[0;34m()\u001b[0m\n\u001b[1;32m      1\u001b[0m \u001b[0;31m# get all lines from crawler.idx\u001b[0m\u001b[0;34m\u001b[0m\u001b[0;34m\u001b[0m\u001b[0m\n\u001b[0;32m----> 2\u001b[0;31m \u001b[0;32mwith\u001b[0m \u001b[0mopen\u001b[0m\u001b[0;34m(\u001b[0m\u001b[0;34m'./crawler.idx'\u001b[0m\u001b[0;34m)\u001b[0m \u001b[0;32mas\u001b[0m \u001b[0mf\u001b[0m\u001b[0;34m:\u001b[0m\u001b[0;34m\u001b[0m\u001b[0m\n\u001b[0m\u001b[1;32m      3\u001b[0m     \u001b[0mlines\u001b[0m \u001b[0;34m=\u001b[0m \u001b[0mf\u001b[0m\u001b[0;34m.\u001b[0m\u001b[0mreadlines\u001b[0m\u001b[0;34m(\u001b[0m\u001b[0;34m)\u001b[0m\u001b[0;34m\u001b[0m\u001b[0m\n",
      "\u001b[0;31mFileNotFoundError\u001b[0m: [Errno 2] No such file or directory: './crawler.idx'"
     ]
    }
   ],
   "source": [
    "# get all lines from crawler.idx\n",
    "with open('./crawler.idx') as f:\n",
    "    lines = f.readlines()"
   ]
  },
  {
   "cell_type": "code",
   "execution_count": 4,
   "metadata": {
    "collapsed": true
   },
   "outputs": [],
   "source": [
    "# get the table header\n",
    "# get the starting and ending positions of data in the table\n",
    "header = lines[7]\n",
    "# 'b' means beginning, 'e' means ending\n",
    "pos1_e = 61"
   ]
  },
  {
   "cell_type": "code",
   "execution_count": 5,
   "metadata": {
    "collapsed": true
   },
   "outputs": [],
   "source": [
    "# clean the unnecessary lines of description texts \n",
    "lines = lines[9:-1]"
   ]
  },
  {
   "cell_type": "markdown",
   "metadata": {},
   "source": [
    "#### Step 4: download all the filing text in crawler.idx"
   ]
  },
  {
   "cell_type": "code",
   "execution_count": null,
   "metadata": {
    "collapsed": true
   },
   "outputs": [],
   "source": [
    "# put useful data in the class\n",
    "for line in lines:\n",
    "    valuelist = list()\n",
    "    # retrieve values from the current line\n",
    "    valuelist.append(line[:pos1_e])\n",
    "    valuelist.append(line[pos1_e+1:pos1_e+12])\n",
    "    valuelist.append(line[pos1_e+13:pos1_e+24])\n",
    "    valuelist.append(line[pos1_e+25:pos1_e+36])\n",
    "    valuelist.append(line[pos1_e+37:])\n",
    "    # creat Report dictionary and put corresponding values\n",
    "    target = gen_dict(valuelist[0],valuelist[1],valuelist[2],valuelist[3],valuelist[4])\n",
    "    # download the filing in text form \n",
    "    download(target)"
   ]
  }
 ],
 "metadata": {
  "kernelspec": {
   "display_name": "Python 3",
   "language": "python",
   "name": "python3"
  },
  "language_info": {
   "codemirror_mode": {
    "name": "ipython",
    "version": 3
   },
   "file_extension": ".py",
   "mimetype": "text/x-python",
   "name": "python",
   "nbconvert_exporter": "python",
   "pygments_lexer": "ipython3",
   "version": "3.5.5"
  }
 },
 "nbformat": 4,
 "nbformat_minor": 2
}
